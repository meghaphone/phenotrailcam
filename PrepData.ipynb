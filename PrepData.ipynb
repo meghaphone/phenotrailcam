{
 "cells": [
  {
   "cell_type": "markdown",
   "id": "a7c5d990-fe93-4dd8-9eee-8db8c94c5b4e",
   "metadata": {},
   "source": [
    "this notebook will guide you through the processing of data for a camera, to prepare it for phenology analysis in R.\n",
    "\n",
    "The first step is to import the library you will need to run this notebook."
   ]
  },
  {
   "cell_type": "code",
   "execution_count": 11,
   "id": "7f9dcb09-877d-4901-8244-c62aa6f65bd6",
   "metadata": {},
   "outputs": [
    {
     "data": {
      "text/plain": [
       "<module 'phenotrailcam' from '/Users/meghasalmontumas/Documents/work/APIS_Pheno/python library/final_code/phenotrailcam.py'>"
      ]
     },
     "execution_count": 11,
     "metadata": {},
     "output_type": "execute_result"
    }
   ],
   "source": [
    "#import phenotrailcam as ptc\n",
    "import importlib\n",
    "importlib.reload(ptc)"
   ]
  },
  {
   "cell_type": "markdown",
   "id": "08fe067f-30e5-4d76-9b01-b3d59b496a62",
   "metadata": {},
   "source": [
    "Now, tell us what camera you would like to process. The camera name should be 6 digits with the first two \"CN\", the second two are letters indicating the island, and the final two are numbers indicating the camera. replace the words 'camera_name' below with the name of the camera you want to process, but leave the quotation marks."
   ]
  },
  {
   "cell_type": "code",
   "execution_count": 40,
   "id": "3b67a156-a79d-4f69-8e95-eee7a814ac46",
   "metadata": {},
   "outputs": [],
   "source": [
    "camera_name = 'CNOU15'\n",
    "image_dir = '/Users/meghasalmontumas/Documents/work/APIS_Pheno/Phenology_Project/'"
   ]
  },
  {
   "cell_type": "code",
   "execution_count": 41,
   "id": "17b45a30-63be-4457-8218-28f3be235b48",
   "metadata": {},
   "outputs": [
    {
     "name": "stdout",
     "output_type": "stream",
     "text": [
      "['/Users/meghasalmontumas/Documents/work/APIS_Pheno/Phenology_Project/Timelapse_Photos/2022/Fall Check/Outer/CNOU15', '/Users/meghasalmontumas/Documents/work/APIS_Pheno/Phenology_Project/Timelapse_Photos/2024/Fall/Outer/CNOU15', '/Users/meghasalmontumas/Documents/work/APIS_Pheno/Phenology_Project/Timelapse_Photos/2023/Fall Check/Outer/CNOU15', '/Users/meghasalmontumas/Documents/work/APIS_Pheno/Phenology_Project/Timelapse_Photos/2017/Spring Check/Outer/CNOU15', '/Users/meghasalmontumas/Documents/work/APIS_Pheno/Phenology_Project/Timelapse_Photos/2017/Fall Check/Outer/CNOU15', '/Users/meghasalmontumas/Documents/work/APIS_Pheno/Phenology_Project/Timelapse_Photos/2019/Fall Check/Outer/CNOU15', '/Users/meghasalmontumas/Documents/work/APIS_Pheno/Phenology_Project/Timelapse_Photos/2021/Fall Check/Outer/CNOU15', '/Users/meghasalmontumas/Documents/work/APIS_Pheno/Phenology_Project/Timelapse_Photos/2020/Fall Check/Outer/CNOU15', '/Users/meghasalmontumas/Documents/work/APIS_Pheno/Phenology_Project/Timelapse_Photos/2018/Fall Check/Outer/CNOU15']\n",
      "Making destination folder: /Users/meghasalmontumas/Documents/work/APIS_Pheno/Phenology_Project/Timelapse_Photos/../Sorted_photos/CNOU15\n",
      "Copying images from /Users/meghasalmontumas/Documents/work/APIS_Pheno/Phenology_Project/Timelapse_Photos/2022/Fall Check/Outer/CNOU15 to /Users/meghasalmontumas/Documents/work/APIS_Pheno/Phenology_Project/Timelapse_Photos/../Sorted_photos/CNOU15\n",
      "Copied 340 images\n",
      "Copying images from /Users/meghasalmontumas/Documents/work/APIS_Pheno/Phenology_Project/Timelapse_Photos/2024/Fall/Outer/CNOU15 to /Users/meghasalmontumas/Documents/work/APIS_Pheno/Phenology_Project/Timelapse_Photos/../Sorted_photos/CNOU15\n",
      "Copied 392 images\n",
      "Copying images from /Users/meghasalmontumas/Documents/work/APIS_Pheno/Phenology_Project/Timelapse_Photos/2023/Fall Check/Outer/CNOU15 to /Users/meghasalmontumas/Documents/work/APIS_Pheno/Phenology_Project/Timelapse_Photos/../Sorted_photos/CNOU15\n",
      "Copied 0 images\n",
      "Copying images from /Users/meghasalmontumas/Documents/work/APIS_Pheno/Phenology_Project/Timelapse_Photos/2017/Spring Check/Outer/CNOU15 to /Users/meghasalmontumas/Documents/work/APIS_Pheno/Phenology_Project/Timelapse_Photos/../Sorted_photos/CNOU15\n",
      "Copied 257 images\n",
      "Copying images from /Users/meghasalmontumas/Documents/work/APIS_Pheno/Phenology_Project/Timelapse_Photos/2017/Fall Check/Outer/CNOU15 to /Users/meghasalmontumas/Documents/work/APIS_Pheno/Phenology_Project/Timelapse_Photos/../Sorted_photos/CNOU15\n",
      "Copied 96 images\n",
      "Copying images from /Users/meghasalmontumas/Documents/work/APIS_Pheno/Phenology_Project/Timelapse_Photos/2019/Fall Check/Outer/CNOU15 to /Users/meghasalmontumas/Documents/work/APIS_Pheno/Phenology_Project/Timelapse_Photos/../Sorted_photos/CNOU15\n",
      "Copied 354 images\n",
      "Copying images from /Users/meghasalmontumas/Documents/work/APIS_Pheno/Phenology_Project/Timelapse_Photos/2021/Fall Check/Outer/CNOU15 to /Users/meghasalmontumas/Documents/work/APIS_Pheno/Phenology_Project/Timelapse_Photos/../Sorted_photos/CNOU15\n",
      "Copied 382 images\n",
      "Copying images from /Users/meghasalmontumas/Documents/work/APIS_Pheno/Phenology_Project/Timelapse_Photos/2020/Fall Check/Outer/CNOU15 to /Users/meghasalmontumas/Documents/work/APIS_Pheno/Phenology_Project/Timelapse_Photos/../Sorted_photos/CNOU15\n",
      "Copied 360 images\n",
      "Copying images from /Users/meghasalmontumas/Documents/work/APIS_Pheno/Phenology_Project/Timelapse_Photos/2018/Fall Check/Outer/CNOU15 to /Users/meghasalmontumas/Documents/work/APIS_Pheno/Phenology_Project/Timelapse_Photos/../Sorted_photos/CNOU15\n",
      "Copied 347 images\n"
     ]
    }
   ],
   "source": [
    "camera_db = image_dir+'Timelapse_Photos/'\n",
    "#print(camera_db)\n",
    "ptc.sort_and_rename(camera_name, camera_db)"
   ]
  },
  {
   "cell_type": "markdown",
   "id": "810def3a-b7d2-400e-b301-e9ae45453fc1",
   "metadata": {},
   "source": [
    "Now that your images all stored in one folder with timestamped file names, you are ready to extract statistics from the images. If you have defined a region of interest for this image, provide the file containing the region of interest now. If you do not provide an ROI file, then statistics will be extracted for the entire image. Be careful with this technique because it is likely to result in less precise transition date estimation when a mixture of vegetation or surface types are present in the images."
   ]
  },
  {
   "cell_type": "code",
   "execution_count": 42,
   "id": "4131b1d1-04af-4bb4-9c2e-d9af1db58d0c",
   "metadata": {},
   "outputs": [
    {
     "name": "stdout",
     "output_type": "stream",
     "text": [
      "Created Excel file: /Users/meghasalmontumas/Documents/work/APIS_Pheno/Phenology_Project/Sorted_photos/CNOU15_DB_1000_1day.xlsx\n",
      "No ROI match found for Camera ID: CNOU15 on 2023-08-24. Using default ROI.\n",
      "Skipping image IMG_CNOU15_20230824_110000.jpg due to missing ROI.\n",
      "Data appended to /Users/meghasalmontumas/Documents/work/APIS_Pheno/Phenology_Project/Sorted_photos/CNOU15_DB_1000_1day.xlsx\n"
     ]
    }
   ],
   "source": [
    "Image_Folder = image_dir + 'Sorted_photos/' + camera_name\n",
    "Excel_Name = image_dir + 'Sorted_photos/'+camera_name+'_DB_1000_1day.xlsx'\n",
    "ROI_File = image_dir + 'APIS Cameras ROIs Organized.csv'\n",
    "\n",
    "roi_ranges = ptc.get_roi_ranges(ROI_File)\n",
    "ptc.append_images_to_excel(camera_name, Image_Folder, Excel_Name, roi_ranges)"
   ]
  },
  {
   "cell_type": "markdown",
   "id": "c4e1ca1f-fa01-4913-afc4-77aca818965c",
   "metadata": {},
   "source": [
    "Now, open the Excel file that you just made and use Save As to save it as a CSV file."
   ]
  },
  {
   "cell_type": "code",
   "execution_count": 13,
   "id": "8d23de88-5fb8-4288-a6c2-186848756341",
   "metadata": {},
   "outputs": [],
   "source": [
    "#skip the following 2 code lines because the snow flag code isn't optimized yet\n",
    "#ptc.set_flags(image_dir + 'Sorted_photos/'+camera_name+'_DB_1000_1day.xlsx')\n",
    "#ptc.clean_image_stats(image_dir + 'Sorted_photos/'+camera_name+'_DB_1000_1day_flag.csv', image_dir + 'Sorted_photos/'+camera_name+'_cleaned_DB_1000_1day_flag.csv')"
   ]
  },
  {
   "cell_type": "code",
   "execution_count": 43,
   "id": "73e61558-7300-4b88-909a-9ddb14e4b9da",
   "metadata": {},
   "outputs": [
    {
     "name": "stdout",
     "output_type": "stream",
     "text": [
      "Finished cleaning CSV file.\n"
     ]
    }
   ],
   "source": [
    "ptc.clean_image_stats(image_dir + 'Sorted_photos/'+camera_name+'_DB_1000_1day.csv', image_dir + 'Sorted_photos/'+camera_name+'_cleaned_DB_1000_1day.csv')"
   ]
  },
  {
   "cell_type": "markdown",
   "id": "d8697b95-4e48-4cb6-b792-93d3a8d3e163",
   "metadata": {},
   "source": [
    "Now your image statistics are ready to take to RStudio. Once there, use the following code to compute transition dates:\n",
    "\n",
    "df <- read_phenocam([filename to cleaned CSV file in quotes])\n",
    "\n",
    "df <- detect_outliers(df)\n",
    "\n",
    "df <- smooth_ts(df)\n",
    "\n",
    "phenology_dates <- phenophases(df, internal = FALSE, out_dir = '.')\n",
    "If you encounter problems, open the cleaned CSV file in a TEXT editor. Make sure there isn't a long series of commas in the header; if so, rerun the clean_image_stats function above. If you still have problems, erase the site name in the text editor and retype it."
   ]
  },
  {
   "cell_type": "code",
   "execution_count": null,
   "id": "f622844c-d127-4279-bd4c-0e0be48bf1cf",
   "metadata": {},
   "outputs": [],
   "source": []
  }
 ],
 "metadata": {
  "kernelspec": {
   "display_name": "Python 3 (ipykernel)",
   "language": "python",
   "name": "python3"
  },
  "language_info": {
   "codemirror_mode": {
    "name": "ipython",
    "version": 3
   },
   "file_extension": ".py",
   "mimetype": "text/x-python",
   "name": "python",
   "nbconvert_exporter": "python",
   "pygments_lexer": "ipython3",
   "version": "3.8.19"
  }
 },
 "nbformat": 4,
 "nbformat_minor": 5
}
